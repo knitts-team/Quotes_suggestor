{
 "cells": [
  {
   "cell_type": "markdown",
   "id": "f7115fa5",
   "metadata": {},
   "source": [
    "#### OM NAMO NARAYANA"
   ]
  },
  {
   "cell_type": "markdown",
   "id": "2ba044c0",
   "metadata": {},
   "source": [
    "**Reference implementation** : https://www.analyticsvidhya.com/blog/2020/08/top-4-sentence-embedding-techniques-using-python/ "
   ]
  },
  {
   "cell_type": "code",
   "execution_count": 2,
   "id": "12dd182c",
   "metadata": {},
   "outputs": [
    {
     "name": "stderr",
     "output_type": "stream",
     "text": [
      "[nltk_data] Downloading package punkt to\n",
      "[nltk_data]     C:\\Users\\WELCOME\\AppData\\Roaming\\nltk_data...\n",
      "[nltk_data]   Package punkt is already up-to-date!\n"
     ]
    }
   ],
   "source": [
    "import nltk\n",
    "nltk.download('punkt')\n",
    "from nltk.tokenize import word_tokenize\n",
    "import numpy as np"
   ]
  },
  {
   "cell_type": "code",
   "execution_count": 3,
   "id": "d40ece8b",
   "metadata": {},
   "outputs": [],
   "source": [
    "import pandas as pd\n",
    "import random\n",
    "import numpy as np\n",
    "import math\n",
    "from tqdm import tqdm"
   ]
  },
  {
   "cell_type": "markdown",
   "id": "37f9806e",
   "metadata": {},
   "source": [
    "## Dataset preparation\n",
    "\n",
    "We use NLTK for word tokenizers"
   ]
  },
  {
   "cell_type": "code",
   "execution_count": 4,
   "id": "226cc51f",
   "metadata": {},
   "outputs": [
    {
     "data": {
      "text/html": [
       "<div>\n",
       "<style scoped>\n",
       "    .dataframe tbody tr th:only-of-type {\n",
       "        vertical-align: middle;\n",
       "    }\n",
       "\n",
       "    .dataframe tbody tr th {\n",
       "        vertical-align: top;\n",
       "    }\n",
       "\n",
       "    .dataframe thead th {\n",
       "        text-align: right;\n",
       "    }\n",
       "</style>\n",
       "<table border=\"1\" class=\"dataframe\">\n",
       "  <thead>\n",
       "    <tr style=\"text-align: right;\">\n",
       "      <th></th>\n",
       "      <th>Quotes</th>\n",
       "      <th>Author</th>\n",
       "      <th>Category</th>\n",
       "    </tr>\n",
       "  </thead>\n",
       "  <tbody>\n",
       "    <tr>\n",
       "      <th>0</th>\n",
       "      <td>Age is an issue of mind over matter. If you do...</td>\n",
       "      <td>Mark Twain</td>\n",
       "      <td>age\\n</td>\n",
       "    </tr>\n",
       "    <tr>\n",
       "      <th>1</th>\n",
       "      <td>Anyone who stops learning is old, whether at t...</td>\n",
       "      <td>Henry Ford</td>\n",
       "      <td>age\\n</td>\n",
       "    </tr>\n",
       "    <tr>\n",
       "      <th>2</th>\n",
       "      <td>Wrinkles should merely indicate where smiles h...</td>\n",
       "      <td>Mark Twain</td>\n",
       "      <td>age\\n</td>\n",
       "    </tr>\n",
       "    <tr>\n",
       "      <th>3</th>\n",
       "      <td>True terror is to wake up one morning and disc...</td>\n",
       "      <td>Kurt Vonnegut</td>\n",
       "      <td>age\\n</td>\n",
       "    </tr>\n",
       "    <tr>\n",
       "      <th>4</th>\n",
       "      <td>A diplomat is a man who always remembers a wom...</td>\n",
       "      <td>Robert Frost</td>\n",
       "      <td>age\\n</td>\n",
       "    </tr>\n",
       "  </tbody>\n",
       "</table>\n",
       "</div>"
      ],
      "text/plain": [
       "                                              Quotes         Author Category\n",
       "0  Age is an issue of mind over matter. If you do...     Mark Twain    age\\n\n",
       "1  Anyone who stops learning is old, whether at t...     Henry Ford    age\\n\n",
       "2  Wrinkles should merely indicate where smiles h...     Mark Twain    age\\n\n",
       "3  True terror is to wake up one morning and disc...  Kurt Vonnegut    age\\n\n",
       "4  A diplomat is a man who always remembers a wom...   Robert Frost    age\\n"
      ]
     },
     "execution_count": 4,
     "metadata": {},
     "output_type": "execute_result"
    }
   ],
   "source": [
    "dataset_dir = 'H:/sem8/nlp/proof-of-concept/Motivational Quotes Database.csv'\n",
    "\n",
    "\n",
    "df = pd.read_csv(dataset_dir)\n",
    "df.head()"
   ]
  },
  {
   "cell_type": "code",
   "execution_count": 5,
   "id": "6bf26732",
   "metadata": {},
   "outputs": [
    {
     "data": {
      "text/plain": [
       "[\"Age is an issue of mind over matter. If you don't mind, it doesn't matter.\",\n",
       " 'Anyone who stops learning is old, whether at twenty or eighty. Anyone who keeps learning stays young. The greatest thing in life is to keep your mind young.']"
      ]
     },
     "execution_count": 5,
     "metadata": {},
     "output_type": "execute_result"
    }
   ],
   "source": [
    "sentences = df['Quotes'].to_list()\n",
    "sentences[:2]"
   ]
  },
  {
   "cell_type": "code",
   "execution_count": 6,
   "id": "5a5bda58",
   "metadata": {},
   "outputs": [
    {
     "name": "stderr",
     "output_type": "stream",
     "text": [
      "100%|██████████████████████████████████████████████████████████████████████████| 45575/45575 [00:17<00:00, 2664.07it/s]"
     ]
    },
    {
     "name": "stdout",
     "output_type": "stream",
     "text": [
      "['anyone', 'who', 'stops', 'learning', 'is', 'old', ',', 'whether', 'at', 'twenty', 'or', 'eighty', '.', 'anyone', 'who', 'keeps', 'learning', 'stays', 'young', '.', 'the', 'greatest', 'thing', 'in', 'life', 'is', 'to', 'keep', 'your', 'mind', 'young', '.'] ['wrinkles', 'should', 'merely', 'indicate', 'where', 'smiles', 'have', 'been', '.']\n"
     ]
    },
    {
     "name": "stderr",
     "output_type": "stream",
     "text": [
      "\n"
     ]
    }
   ],
   "source": [
    "tokenized_sent = []\n",
    "for s in tqdm(sentences):\n",
    "    tokenized_sent.append(word_tokenize(s.lower()))\n",
    "print(*tokenized_sent[1:3])"
   ]
  },
  {
   "cell_type": "code",
   "execution_count": 7,
   "id": "4af7ad88",
   "metadata": {},
   "outputs": [],
   "source": [
    "from scipy.spatial import distance"
   ]
  },
  {
   "cell_type": "markdown",
   "id": "7d41809d",
   "metadata": {},
   "source": [
    "## Doc2Vec\n",
    "\n",
    "**documentation** : https://radimrehurek.com/gensim/models/doc2vec.html\n",
    "\n",
    "**demonstration** : https://radimrehurek.com/gensim/auto_examples/tutorials/run_doc2vec_lee.html#sphx-glr-auto-examples-tutorials-run-doc2vec-lee-py <br/>\n",
    "\n",
    "- We train the model from scratch here\n",
    "- Unsupervised algorithm\n",
    "- Continuous Bag of words type and skip gram type"
   ]
  },
  {
   "cell_type": "markdown",
   "id": "f3aeb106",
   "metadata": {},
   "source": [
    "For each token (sentence) from tokenizer, we assign an index to the sentence"
   ]
  },
  {
   "cell_type": "code",
   "execution_count": 8,
   "id": "13f1c8c3",
   "metadata": {},
   "outputs": [
    {
     "name": "stderr",
     "output_type": "stream",
     "text": [
      "D:\\OS\\programs\\anaconda3\\envs\\fyp\\lib\\site-packages\\gensim\\similarities\\__init__.py:15: UserWarning: The gensim.similarities.levenshtein submodule is disabled, because the optional Levenshtein package <https://pypi.org/project/python-Levenshtein/> is unavailable. Install Levenhstein (e.g. `pip install python-Levenshtein`) to suppress this warning.\n",
      "  warnings.warn(msg)\n"
     ]
    },
    {
     "data": {
      "text/plain": [
       "[TaggedDocument(words=['age', 'is', 'an', 'issue', 'of', 'mind', 'over', 'matter', '.', 'if', 'you', 'do', \"n't\", 'mind', ',', 'it', 'does', \"n't\", 'matter', '.'], tags=[0]),\n",
       " TaggedDocument(words=['anyone', 'who', 'stops', 'learning', 'is', 'old', ',', 'whether', 'at', 'twenty', 'or', 'eighty', '.', 'anyone', 'who', 'keeps', 'learning', 'stays', 'young', '.', 'the', 'greatest', 'thing', 'in', 'life', 'is', 'to', 'keep', 'your', 'mind', 'young', '.'], tags=[1])]"
      ]
     },
     "execution_count": 8,
     "metadata": {},
     "output_type": "execute_result"
    }
   ],
   "source": [
    "from gensim.models.doc2vec import Doc2Vec, TaggedDocument\n",
    "tagged_data = [TaggedDocument(d, [i]) for i, d in enumerate(tokenized_sent)]\n",
    "tagged_data[:2]"
   ]
  },
  {
   "cell_type": "code",
   "execution_count": 9,
   "id": "68e520e6",
   "metadata": {},
   "outputs": [
    {
     "name": "stdout",
     "output_type": "stream",
     "text": [
      "Wall time: 52.8 s\n",
      "['.', ',']\n"
     ]
    }
   ],
   "source": [
    "# workers=2 works fastest\n",
    "model = Doc2Vec(vector_size = 20, window = 2, min_count = 2, epochs = 10, workers=2)\n",
    "\n",
    "model.build_vocab(tagged_data)\n",
    "\n",
    "%time model.train(tagged_data, total_examples=model.corpus_count, epochs=model.epochs)\n",
    "\n",
    "'''\n",
    "vector_size = Dimensionality of the feature vectors.\n",
    "window = The maximum distance between the current and predicted word within a sentence.\n",
    "min_count = Ignores all words with total frequency lower than this.\n",
    "alpha = The initial learning rate.\n",
    "'''\n",
    "\n",
    "## Print model vocabulary\n",
    "words = list(model.wv.index_to_key)\n",
    "print(words[:2])\n"
   ]
  },
  {
   "cell_type": "code",
   "execution_count": 10,
   "id": "6e718b74",
   "metadata": {},
   "outputs": [
    {
     "name": "stdout",
     "output_type": "stream",
     "text": [
      "[ 0.07447035  0.04892112  0.06480086  0.0256297  -0.10857244 -0.06330144\n",
      "  0.07706815  0.05902652  0.07944272 -0.07470851 -0.08211119 -0.0961201\n",
      "  0.05281993 -0.07723278  0.08934417 -0.17848739  0.00675406  0.02949584\n",
      "  0.06259582 -0.10678063]\n",
      "[(7422, 0.8489336967468262), (18709, 0.8474291563034058), (17237, 0.8415979743003845), (42321, 0.8353790044784546), (22916, 0.8220664262771606), (12940, 0.8204892873764038), (39554, 0.8142619729042053), (12690, 0.8134011626243591), (6269, 0.8125656247138977), (15706, 0.8085902333259583)]\n"
     ]
    }
   ],
   "source": [
    "test_doc = word_tokenize(\"I want freedom\".lower())\n",
    "test_doc_vector = model.infer_vector(test_doc)\n",
    "print(test_doc_vector)\n",
    "x = model.dv.most_similar(positive = [test_doc_vector], topn=10)\n",
    "print(x)"
   ]
  },
  {
   "cell_type": "code",
   "execution_count": 11,
   "id": "3a6a7cb9",
   "metadata": {},
   "outputs": [
    {
     "name": "stdout",
     "output_type": "stream",
     "text": [
      "The truth does not change according to our ability to stomach it.\n",
      "The world has nothing to fear from military ambition in our Government.\n",
      "I think when someone is injured in your family, you want to speak to the individual and you want to hear their voice and you want to make sure they are OK.\n",
      "I'm still going to do television. I'm just not going to do morning television. I would like to do some things that satisfy interests, private interests.\n",
      "The garden suggests there might be a place where we can meet nature halfway.\n",
      "We need affordable space travel to inspire our youth, to let them know that they can experience their dreams, can set significant goals and be in a position to lead all of us to future progress in exploration, discovery and fun. Thanks to the X Prize for the inspiration.\n",
      "At the bottom of not a little of the bravery that appears in the world, there lurks a miserable cowardice. Men will face powder and steel because they have not the courage to face public opinion.\n",
      "It has never been my object to record my dreams, just the determination to realize them.\n",
      "One thing is certain in business. You and everyone around you will make mistakes.\n",
      "Believe in yourself, and the rest will fall into place. Have faith in your own abilities, work hard, and there is nothing you cannot accomplish.\n"
     ]
    }
   ],
   "source": [
    "index = [sentences[j] for j in [i[0] for i in x]]\n",
    "for y in index:\n",
    "    print(y)"
   ]
  },
  {
   "cell_type": "markdown",
   "id": "10bad9f1",
   "metadata": {},
   "source": [
    "## SentenceBERT\n",
    "\n",
    "**Reference**: https://www.sbert.net/\n",
    "\n",
    "- We import and use the pre-trained mode\n",
    "- Here we don't train the model"
   ]
  },
  {
   "cell_type": "code",
   "execution_count": 12,
   "id": "9d881a55",
   "metadata": {},
   "outputs": [
    {
     "name": "stdout",
     "output_type": "stream",
     "text": [
      "Wall time: 22.3 s\n"
     ]
    }
   ],
   "source": [
    "from sentence_transformers import SentenceTransformer\n",
    "%time sbert_model = SentenceTransformer('bert-base-nli-mean-tokens')"
   ]
  },
  {
   "cell_type": "code",
   "execution_count": 13,
   "id": "bab3693c",
   "metadata": {},
   "outputs": [
    {
     "name": "stdout",
     "output_type": "stream",
     "text": [
      "Wall time: 2min 58s\n"
     ]
    }
   ],
   "source": [
    "%time sentence_embeddings = sbert_model.encode(sentences[:2000])"
   ]
  },
  {
   "cell_type": "code",
   "execution_count": 14,
   "id": "674e4ff1",
   "metadata": {},
   "outputs": [],
   "source": [
    "query = \"God is Great\"\n",
    "query_vec = sbert_model.encode([query])[0]"
   ]
  },
  {
   "cell_type": "code",
   "execution_count": 15,
   "id": "6b1e0cda",
   "metadata": {},
   "outputs": [
    {
     "name": "stderr",
     "output_type": "stream",
     "text": [
      "100%|██████████████████████████████████████████████████████████████████████████████| 2000/2000 [04:43<00:00,  7.05it/s]\n"
     ]
    },
    {
     "name": "stdout",
     "output_type": "stream",
     "text": [
      "[\"Old age isn't so bad when you consider the alternative.\"\n",
      " 'I vividly remember being 14. That was the age when I started to get happy: I started being a writer and stopped being a loser.'\n",
      " \"Be able to live alone, even if you don't want to and think you will never find it necessary.\"\n",
      " 'No woman should ever be quite accurate about her age. It looks so calculating.'\n",
      " 'The greatest writers of this age... are aware of the mystery of our existence.']\n"
     ]
    }
   ],
   "source": [
    "topn = 5\n",
    "n = 2000\n",
    "\n",
    "sim = []\n",
    "for sent in tqdm(random.sample(sentences, n)):\n",
    "  sim.append(distance.cosine(query_vec, sbert_model.encode([sent])[0]))\n",
    "#   print(\"Sentence = \", sent, \"; similarity = \", sim)\n",
    "ind = np.argpartition(sim, -topn)[-topn:]\n",
    "print(np.array(sentences)[ind])"
   ]
  },
  {
   "cell_type": "code",
   "execution_count": null,
   "id": "47ee9638",
   "metadata": {},
   "outputs": [],
   "source": []
  },
  {
   "cell_type": "markdown",
   "id": "475a15c6",
   "metadata": {},
   "source": [
    "## InferSent"
   ]
  },
  {
   "cell_type": "code",
   "execution_count": 16,
   "id": "71662ba8",
   "metadata": {},
   "outputs": [
    {
     "name": "stdout",
     "output_type": "stream",
     "text": [
      "A subdirectory already exists.\n",
      "A subdirectory already exists.\n"
     ]
    }
   ],
   "source": [
    "import os\n",
    "\n",
    "encoder_dir = 'H:/sem8/nlp/proof-of-concept/'\n",
    "\n",
    "os.chdir(encoder_dir)\n",
    "\n",
    "if(os.path.isdir(encoder_dir + 'encoder')  == False):\n",
    "    ! mkdir encoder\n",
    "    ! curl -Lo encoder/infersent2.pkl https://dl.fbaipublicfiles.com/infersent/infersent2.pkl\n",
    "else:\n",
    "    print('A subdirectory already exists.')\n",
    "    \n",
    "\n",
    "if(os.path.isdir(encoder_dir + 'Glove')  == False):\n",
    "    ! mkdir GloVe\n",
    "    ! curl -Lo GloVe/glove.840B.300d.zip http://nlp.stanford.edu/data/glove.840B.300d.zip\n",
    "    ! unzip GloVe/glove.840B.300d.zip -d GloVe/\n",
    "else:\n",
    "    print('A subdirectory already exists.')\n"
   ]
  },
  {
   "cell_type": "code",
   "execution_count": 17,
   "id": "2b1bf605",
   "metadata": {},
   "outputs": [],
   "source": [
    "from models import InferSent\n",
    "import torch\n",
    "\n",
    "V = 2\n",
    "base_path = 'H:/sem8/nlp/proof-of-concept/'\n",
    "MODEL_PATH = base_path + 'encoder/infersent%s.pkl' % V\n",
    "params_model = {'bsize': 64, 'word_emb_dim': 300, 'enc_lstm_dim': 2048,\n",
    "                'pool_type': 'max', 'dpout_model': 0.0, 'version': V}\n",
    "model = InferSent(params_model)\n",
    "model.load_state_dict(torch.load(MODEL_PATH))\n",
    "\n",
    "W2V_PATH = base_path + '/GloVe/glove.840B.300d.txt'\n",
    "model.set_w2v_path(W2V_PATH)"
   ]
  },
  {
   "cell_type": "code",
   "execution_count": 18,
   "id": "6abc6532",
   "metadata": {},
   "outputs": [
    {
     "name": "stdout",
     "output_type": "stream",
     "text": [
      "Found 42186(/44882) words with w2v vectors\n",
      "Vocab size : 42186\n",
      "Wall time: 1min 50s\n"
     ]
    }
   ],
   "source": [
    "%time model.build_vocab(sentences, tokenize=True)"
   ]
  },
  {
   "cell_type": "code",
   "execution_count": 19,
   "id": "7e9f1278",
   "metadata": {},
   "outputs": [
    {
     "name": "stderr",
     "output_type": "stream",
     "text": [
      "H:\\jupyter-files\\models.py:207: VisibleDeprecationWarning: Creating an ndarray from ragged nested sequences (which is a list-or-tuple of lists-or-tuples-or ndarrays with different lengths or shapes) is deprecated. If you meant to do this, you must specify 'dtype=object' when creating the ndarray.\n",
      "  sentences = np.array(sentences)[idx_sort]\n"
     ]
    },
    {
     "data": {
      "text/plain": [
       "array([-0.01715463,  0.04943122, -0.17540526, ..., -0.01258784,\n",
       "       -0.067958  , -0.04156346], dtype=float32)"
      ]
     },
     "execution_count": 19,
     "metadata": {},
     "output_type": "execute_result"
    }
   ],
   "source": [
    "query = \"Life is very short nanba, always be happy. Design Design a problems will come and go don't worry\"\n",
    "query_vec = model.encode(query)[0]\n",
    "query_vec"
   ]
  },
  {
   "cell_type": "code",
   "execution_count": 20,
   "id": "f319d43c",
   "metadata": {},
   "outputs": [
    {
     "name": "stderr",
     "output_type": "stream",
     "text": [
      "100%|████████████████████████████████████████████████████████████████████████████████| 100/100 [00:27<00:00,  3.64it/s]\n"
     ]
    },
    {
     "name": "stdout",
     "output_type": "stream",
     "text": [
      "['Wrinkles should merely indicate where smiles have been.'\n",
      " 'The denunciation of the young is a necessary part of the hygiene of older people, and greatly assists the circulation of the blood.'\n",
      " 'Old age is the most unexpected of all the things that can happen to a man.'\n",
      " 'Age is not a particularly interesting subject. Anyone can get old. All you have to do is live long enough.'\n",
      " 'Age appears to be best in four things old wood best to burn, old wine to drink, old friends to trust, and old authors to read.'\n",
      " 'Old age is a shipwreck.'\n",
      " 'There is a fountain of youth: it is your mind, your talents, the creativity you bring to your life and the lives of people you love. When you learn to tap this source, you will truly have defeated age.'\n",
      " 'I want to get old gracefully. I want to have good posture, I want to be healthy and be an example to my children.'\n",
      " 'The aging process has you firmly in its grasp if you never get the urge to throw a snowball.'\n",
      " \"Age is an issue of mind over matter. If you don't mind, it doesn't matter.\"]\n"
     ]
    }
   ],
   "source": [
    "topn = 10\n",
    "n = 100\n",
    "\n",
    "similarity = []\n",
    "sim = []\n",
    "\n",
    "for sent in tqdm(random.sample(sentences, n)):\n",
    "  sim.append(distance.cosine(query_vec, model.encode([sent])[0]))\n",
    "ind = np.argpartition(sim, -topn)[-topn:]\n",
    "print(np.array(sentences)[ind])"
   ]
  },
  {
   "cell_type": "code",
   "execution_count": 21,
   "id": "a043693a",
   "metadata": {},
   "outputs": [],
   "source": [
    "import matplotlib.pyplot as plt"
   ]
  },
  {
   "cell_type": "code",
   "execution_count": 22,
   "id": "b2d78698",
   "metadata": {},
   "outputs": [
    {
     "data": {
      "image/png": "[encoded data removed]",
      "text/plain": [
       "<Figure size 1152x648 with 1 Axes>"
      ]
     },
     "metadata": {
      "needs_background": "light"
     },
     "output_type": "display_data"
    }
   ],
   "source": [
    "fig, ax = plt.subplots(figsize =(16, 9))\n",
    "ax.xaxis.set_tick_params(pad = 5)\n",
    "ax.yaxis.set_tick_params(pad = 10)\n",
    "ax.barh([x[:30] + '...' for x in np.array(sentences)[ind]], np.array(sim)[ind])\n",
    "ax.invert_yaxis()\n",
    "plt.show()"
   ]
  },
  {
   "cell_type": "code",
   "execution_count": null,
   "id": "2c7eff9e",
   "metadata": {},
   "outputs": [],
   "source": []
  },
  {
   "cell_type": "markdown",
   "id": "85a84435",
   "metadata": {},
   "source": [
    "## Universal Sentence Encoder"
   ]
  },
  {
   "cell_type": "code",
   "execution_count": 23,
   "id": "093dbc68",
   "metadata": {},
   "outputs": [
    {
     "ename": "ModuleNotFoundError",
     "evalue": "No module named 'tensorflow_hub'",
     "output_type": "error",
     "traceback": [
      "\u001b[1;31m---------------------------------------------------------------------------\u001b[0m",
      "\u001b[1;31mModuleNotFoundError\u001b[0m                       Traceback (most recent call last)",
      "\u001b[1;32m~\\AppData\\Local\\Temp/ipykernel_11180/3173776719.py\u001b[0m in \u001b[0;36m<module>\u001b[1;34m\u001b[0m\n\u001b[0;32m      1\u001b[0m \u001b[1;32mimport\u001b[0m \u001b[0mtensorflow\u001b[0m \u001b[1;32mas\u001b[0m \u001b[0mtf\u001b[0m\u001b[1;33m\u001b[0m\u001b[1;33m\u001b[0m\u001b[0m\n\u001b[1;32m----> 2\u001b[1;33m \u001b[1;32mimport\u001b[0m \u001b[0mtensorflow_hub\u001b[0m \u001b[1;32mas\u001b[0m \u001b[0mhub\u001b[0m\u001b[1;33m\u001b[0m\u001b[1;33m\u001b[0m\u001b[0m\n\u001b[0m\u001b[0;32m      3\u001b[0m \u001b[1;32mimport\u001b[0m \u001b[0mnumpy\u001b[0m \u001b[1;32mas\u001b[0m \u001b[0mnp\u001b[0m\u001b[1;33m\u001b[0m\u001b[1;33m\u001b[0m\u001b[0m\n",
      "\u001b[1;31mModuleNotFoundError\u001b[0m: No module named 'tensorflow_hub'"
     ]
    }
   ],
   "source": [
    "import tensorflow as tf\n",
    "import tensorflow_hub as hub\n",
    "import numpy as np"
   ]
  },
  {
   "cell_type": "code",
   "execution_count": null,
   "id": "14019a86",
   "metadata": {},
   "outputs": [],
   "source": []
  }
 ],
 "metadata": {
  "kernelspec": {
   "display_name": "Python 3 (ipykernel)",
   "language": "python",
   "name": "python3"
  },
  "language_info": {
   "codemirror_mode": {
    "name": "ipython",
    "version": 3
   },
   "file_extension": ".py",
   "mimetype": "text/x-python",
   "name": "python",
   "nbconvert_exporter": "python",
   "pygments_lexer": "ipython3",
   "version": "3.9.7"
  }
 },
 "nbformat": 4,
 "nbformat_minor": 5
}
