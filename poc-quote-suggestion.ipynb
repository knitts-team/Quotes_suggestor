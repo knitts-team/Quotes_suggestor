{
 "cells": [
  {
   "cell_type": "code",
   "execution_count": 1,
   "id": "6178d2a3",
   "metadata": {},
   "outputs": [],
   "source": [
    "#OM NAMO NARAYANA"
   ]
  },
  {
   "cell_type": "markdown",
   "id": "2ba044c0",
   "metadata": {},
   "source": [
    "https://www.analyticsvidhya.com/blog/2020/08/top-4-sentence-embedding-techniques-using-python/"
   ]
  },
  {
   "cell_type": "code",
   "execution_count": 2,
   "id": "12dd182c",
   "metadata": {},
   "outputs": [
    {
     "name": "stderr",
     "output_type": "stream",
     "text": [
      "[nltk_data] Downloading package punkt to\n",
      "[nltk_data]     C:\\Users\\WELCOME\\AppData\\Roaming\\nltk_data...\n",
      "[nltk_data]   Package punkt is already up-to-date!\n"
     ]
    }
   ],
   "source": [
    "import nltk\n",
    "nltk.download('punkt')\n",
    "from nltk.tokenize import word_tokenize\n",
    "import numpy as np"
   ]
  },
  {
   "cell_type": "code",
   "execution_count": 3,
   "id": "d40ece8b",
   "metadata": {},
   "outputs": [],
   "source": [
    "import pandas as pd\n",
    "import random\n",
    "import numpy as np\n",
    "import math\n",
    "from tqdm import tqdm"
   ]
  },
  {
   "cell_type": "markdown",
   "id": "37f9806e",
   "metadata": {},
   "source": [
    "## Dataset preparation"
   ]
  },
  {
   "cell_type": "code",
   "execution_count": 4,
   "id": "226cc51f",
   "metadata": {},
   "outputs": [
    {
     "data": {
      "text/html": [
       "<div>\n",
       "<style scoped>\n",
       "    .dataframe tbody tr th:only-of-type {\n",
       "        vertical-align: middle;\n",
       "    }\n",
       "\n",
       "    .dataframe tbody tr th {\n",
       "        vertical-align: top;\n",
       "    }\n",
       "\n",
       "    .dataframe thead th {\n",
       "        text-align: right;\n",
       "    }\n",
       "</style>\n",
       "<table border=\"1\" class=\"dataframe\">\n",
       "  <thead>\n",
       "    <tr style=\"text-align: right;\">\n",
       "      <th></th>\n",
       "      <th>Quotes</th>\n",
       "      <th>Author</th>\n",
       "      <th>Category</th>\n",
       "    </tr>\n",
       "  </thead>\n",
       "  <tbody>\n",
       "    <tr>\n",
       "      <th>0</th>\n",
       "      <td>Age is an issue of mind over matter. If you do...</td>\n",
       "      <td>Mark Twain</td>\n",
       "      <td>age\\n</td>\n",
       "    </tr>\n",
       "    <tr>\n",
       "      <th>1</th>\n",
       "      <td>Anyone who stops learning is old, whether at t...</td>\n",
       "      <td>Henry Ford</td>\n",
       "      <td>age\\n</td>\n",
       "    </tr>\n",
       "    <tr>\n",
       "      <th>2</th>\n",
       "      <td>Wrinkles should merely indicate where smiles h...</td>\n",
       "      <td>Mark Twain</td>\n",
       "      <td>age\\n</td>\n",
       "    </tr>\n",
       "    <tr>\n",
       "      <th>3</th>\n",
       "      <td>True terror is to wake up one morning and disc...</td>\n",
       "      <td>Kurt Vonnegut</td>\n",
       "      <td>age\\n</td>\n",
       "    </tr>\n",
       "    <tr>\n",
       "      <th>4</th>\n",
       "      <td>A diplomat is a man who always remembers a wom...</td>\n",
       "      <td>Robert Frost</td>\n",
       "      <td>age\\n</td>\n",
       "    </tr>\n",
       "  </tbody>\n",
       "</table>\n",
       "</div>"
      ],
      "text/plain": [
       "                                              Quotes         Author Category\n",
       "0  Age is an issue of mind over matter. If you do...     Mark Twain    age\\n\n",
       "1  Anyone who stops learning is old, whether at t...     Henry Ford    age\\n\n",
       "2  Wrinkles should merely indicate where smiles h...     Mark Twain    age\\n\n",
       "3  True terror is to wake up one morning and disc...  Kurt Vonnegut    age\\n\n",
       "4  A diplomat is a man who always remembers a wom...   Robert Frost    age\\n"
      ]
     },
     "execution_count": 4,
     "metadata": {},
     "output_type": "execute_result"
    }
   ],
   "source": [
    "dataset_dir = 'H:/sem8/nlp/proof-of-concept/Motivational Quotes Database.csv'\n",
    "\n",
    "\n",
    "df = pd.read_csv(dataset_dir)\n",
    "df.head()"
   ]
  },
  {
   "cell_type": "code",
   "execution_count": 5,
   "id": "6bf26732",
   "metadata": {},
   "outputs": [
    {
     "data": {
      "text/plain": [
       "[\"Age is an issue of mind over matter. If you don't mind, it doesn't matter.\",\n",
       " 'Anyone who stops learning is old, whether at twenty or eighty. Anyone who keeps learning stays young. The greatest thing in life is to keep your mind young.']"
      ]
     },
     "execution_count": 5,
     "metadata": {},
     "output_type": "execute_result"
    }
   ],
   "source": [
    "sentences = df['Quotes'].to_list()\n",
    "sentences[:2]"
   ]
  },
  {
   "cell_type": "code",
   "execution_count": 6,
   "id": "5a5bda58",
   "metadata": {},
   "outputs": [
    {
     "name": "stderr",
     "output_type": "stream",
     "text": [
      "100%|██████████████████████████████████████████████████████████████████████████| 45575/45575 [00:09<00:00, 4638.61it/s]"
     ]
    },
    {
     "name": "stdout",
     "output_type": "stream",
     "text": [
      "['anyone', 'who', 'stops', 'learning', 'is', 'old', ',', 'whether', 'at', 'twenty', 'or', 'eighty', '.', 'anyone', 'who', 'keeps', 'learning', 'stays', 'young', '.', 'the', 'greatest', 'thing', 'in', 'life', 'is', 'to', 'keep', 'your', 'mind', 'young', '.'] ['wrinkles', 'should', 'merely', 'indicate', 'where', 'smiles', 'have', 'been', '.']\n"
     ]
    },
    {
     "name": "stderr",
     "output_type": "stream",
     "text": [
      "\n"
     ]
    }
   ],
   "source": [
    "tokenized_sent = []\n",
    "for s in tqdm(sentences):\n",
    "    tokenized_sent.append(word_tokenize(s.lower()))\n",
    "print(*tokenized_sent[1:3])"
   ]
  },
  {
   "cell_type": "code",
   "execution_count": 7,
   "id": "f5947067",
   "metadata": {},
   "outputs": [],
   "source": [
    "# def cosine(u, v):\n",
    "#     return np.dot(u, v) / (np.linalg.norm(u) * np.linalg.norm(v))\n",
    "# #use inbuilt scipy.spatial.distance.cosine "
   ]
  },
  {
   "cell_type": "code",
   "execution_count": 8,
   "id": "4af7ad88",
   "metadata": {},
   "outputs": [],
   "source": [
    "from scipy.spatial import distance"
   ]
  },
  {
   "cell_type": "markdown",
   "id": "7d41809d",
   "metadata": {},
   "source": [
    "## Doc2Vec"
   ]
  },
  {
   "cell_type": "code",
   "execution_count": 9,
   "id": "13f1c8c3",
   "metadata": {},
   "outputs": [
    {
     "name": "stderr",
     "output_type": "stream",
     "text": [
      "D:\\OS\\programs\\anaconda3\\envs\\fyp\\lib\\site-packages\\gensim\\similarities\\__init__.py:15: UserWarning: The gensim.similarities.levenshtein submodule is disabled, because the optional Levenshtein package <https://pypi.org/project/python-Levenshtein/> is unavailable. Install Levenhstein (e.g. `pip install python-Levenshtein`) to suppress this warning.\n",
      "  warnings.warn(msg)\n"
     ]
    },
    {
     "data": {
      "text/plain": [
       "[TaggedDocument(words=['age', 'is', 'an', 'issue', 'of', 'mind', 'over', 'matter', '.', 'if', 'you', 'do', \"n't\", 'mind', ',', 'it', 'does', \"n't\", 'matter', '.'], tags=[0]),\n",
       " TaggedDocument(words=['anyone', 'who', 'stops', 'learning', 'is', 'old', ',', 'whether', 'at', 'twenty', 'or', 'eighty', '.', 'anyone', 'who', 'keeps', 'learning', 'stays', 'young', '.', 'the', 'greatest', 'thing', 'in', 'life', 'is', 'to', 'keep', 'your', 'mind', 'young', '.'], tags=[1])]"
      ]
     },
     "execution_count": 9,
     "metadata": {},
     "output_type": "execute_result"
    }
   ],
   "source": [
    "from gensim.models.doc2vec import Doc2Vec, TaggedDocument\n",
    "tagged_data = [TaggedDocument(d, [i]) for i, d in enumerate(tokenized_sent)]\n",
    "tagged_data[:2]"
   ]
  },
  {
   "cell_type": "code",
   "execution_count": 10,
   "id": "68e520e6",
   "metadata": {},
   "outputs": [
    {
     "name": "stdout",
     "output_type": "stream",
     "text": [
      "Wall time: 28.8 s\n"
     ]
    }
   ],
   "source": [
    "## Train doc2vec model\n",
    "%time model = Doc2Vec(tagged_data, vector_size = 20, window = 2, min_count = 1, epochs = 10)\n",
    "\n",
    "'''\n",
    "vector_size = Dimensionality of the feature vectors.\n",
    "window = The maximum distance between the current and predicted word within a sentence.\n",
    "min_count = Ignores all words with total frequency lower than this.\n",
    "alpha = The initial learning rate.\n",
    "'''\n",
    "\n",
    "## Print model vocabulary\n",
    "words = list(model.wv.index_to_key)\n"
   ]
  },
  {
   "cell_type": "code",
   "execution_count": 11,
   "id": "0a52773a",
   "metadata": {},
   "outputs": [],
   "source": [
    "# words = list(model.wv.index_to_key)\n",
    "# print(words[:100], len(words))"
   ]
  },
  {
   "cell_type": "code",
   "execution_count": 12,
   "id": "6e718b74",
   "metadata": {},
   "outputs": [
    {
     "name": "stdout",
     "output_type": "stream",
     "text": [
      "[ 0.13681448 -0.072593   -0.02098905  0.06470512 -0.11371465 -0.1001238\n",
      "  0.09094466  0.01187494  0.05876266 -0.01651727 -0.03715911 -0.01518352\n",
      " -0.03383817 -0.16784012  0.1116206  -0.03801637  0.07788008 -0.04885274\n",
      "  0.03514225 -0.10994279]\n",
      "[(32137, 0.9394439458847046), (16062, 0.9158200025558472), (36792, 0.9133024215698242), (32161, 0.9042444825172424), (16286, 0.9038118720054626), (26916, 0.8988608717918396), (2132, 0.8961572647094727), (15120, 0.8954105973243713), (9705, 0.8953298330307007), (4271, 0.8918415307998657)]\n"
     ]
    }
   ],
   "source": [
    "test_doc = word_tokenize(\"freedom\".lower())\n",
    "test_doc_vector = model.infer_vector(test_doc)\n",
    "print(test_doc_vector)\n",
    "x = model.dv.most_similar(positive = [test_doc_vector], topn=10)\n",
    "print(x)"
   ]
  },
  {
   "cell_type": "code",
   "execution_count": 13,
   "id": "3a6a7cb9",
   "metadata": {},
   "outputs": [
    {
     "name": "stdout",
     "output_type": "stream",
     "text": [
      "Faith is spiritualized imagination.\n",
      "Our religion does not discriminate according to color, sex or anything else. What counts is piety and faith.\n",
      "Love's greatest gift is its ability to make everything it touches sacred.\n",
      "Imagination decides everything.\n",
      "Put your faith in God and confidence in yourself.\n",
      "Happiness depends upon ourselves.\n",
      "Anger elicits anger, fear elicits fear, no matter how well meaning we may be.\n",
      "Success is usually the culmination of controlling failure.\n",
      "Courage is fire, and bullying is smoke.\n",
      "Nothing surpasses the beauty and elegance of a bad idea.\n"
     ]
    }
   ],
   "source": [
    "index = [sentences[j] for j in [i[0] for i in x]]\n",
    "for y in index:\n",
    "    print(y)"
   ]
  },
  {
   "cell_type": "markdown",
   "id": "10bad9f1",
   "metadata": {},
   "source": [
    "## SentenceBERT"
   ]
  },
  {
   "cell_type": "code",
   "execution_count": 14,
   "id": "9d881a55",
   "metadata": {},
   "outputs": [
    {
     "name": "stdout",
     "output_type": "stream",
     "text": [
      "Wall time: 20.7 s\n"
     ]
    }
   ],
   "source": [
    "from sentence_transformers import SentenceTransformer\n",
    "%time sbert_model = SentenceTransformer('bert-base-nli-mean-tokens')"
   ]
  },
  {
   "cell_type": "code",
   "execution_count": 15,
   "id": "bab3693c",
   "metadata": {},
   "outputs": [
    {
     "name": "stdout",
     "output_type": "stream",
     "text": [
      "Wall time: 1min 46s\n"
     ]
    }
   ],
   "source": [
    "%time sentence_embeddings = sbert_model.encode(sentences[:2000])\n",
    "\n",
    "#print('Sample BERT embedding vector - length', len(sentence_embeddings[0]))\n",
    "#print('Sample BERT embedding vector - note includes negative values', sentence_embeddings[0])"
   ]
  },
  {
   "cell_type": "code",
   "execution_count": 16,
   "id": "674e4ff1",
   "metadata": {},
   "outputs": [],
   "source": [
    "query = \"God is Great\"\n",
    "query_vec = sbert_model.encode([query])[0]"
   ]
  },
  {
   "cell_type": "code",
   "execution_count": 17,
   "id": "6b1e0cda",
   "metadata": {},
   "outputs": [
    {
     "name": "stderr",
     "output_type": "stream",
     "text": [
      "100%|██████████████████████████████████████████████████████████████████████████████| 2000/2000 [02:16<00:00, 14.64it/s]\n"
     ]
    },
    {
     "name": "stdout",
     "output_type": "stream",
     "text": [
      "[\"We've put more effort into helping folks reach old age than into helping them enjoy it.\"\n",
      " \"One person alone can't do anything as important as bringing genuine democracy to a country.\"\n",
      " 'Sure I played, did you think I was born at the age of 70 sitting in a dugout trying to manage guys like you?'\n",
      " 'At this age, I should be leading a quiet life.'\n",
      " 'When the shriveled skin of the ordinary is stuffed out with meaning, it satisfies the senses amazingly.']\n"
     ]
    }
   ],
   "source": [
    "topn = 5\n",
    "n = 2000\n",
    "\n",
    "sim = []\n",
    "for sent in tqdm(random.sample(sentences, n)):\n",
    "  sim.append(distance.cosine(query_vec, sbert_model.encode([sent])[0]))\n",
    "#   print(\"Sentence = \", sent, \"; similarity = \", sim)\n",
    "ind = np.argpartition(sim, -topn)[-topn:]\n",
    "print(np.array(sentences)[ind])"
   ]
  },
  {
   "cell_type": "code",
   "execution_count": 18,
   "id": "47ee9638",
   "metadata": {},
   "outputs": [],
   "source": [
    "# from huggingface_hub import create_repo"
   ]
  },
  {
   "cell_type": "markdown",
   "id": "475a15c6",
   "metadata": {},
   "source": [
    "## InferSent"
   ]
  },
  {
   "cell_type": "code",
   "execution_count": 19,
   "id": "71662ba8",
   "metadata": {},
   "outputs": [
    {
     "name": "stdout",
     "output_type": "stream",
     "text": [
      "A subdirectory already exists.\n",
      "A subdirectory already exists.\n"
     ]
    }
   ],
   "source": [
    "import os\n",
    "\n",
    "encoder_dir = 'H:/sem8/nlp/proof-of-concept/'\n",
    "\n",
    "os.chdir(encoder_dir)\n",
    "\n",
    "if(os.path.isdir(encoder_dir + 'encoder')  == False):\n",
    "    ! mkdir encoder\n",
    "    ! curl -Lo encoder/infersent2.pkl https://dl.fbaipublicfiles.com/infersent/infersent2.pkl\n",
    "else:\n",
    "    print('A subdirectory already exists.')\n",
    "    \n",
    "\n",
    "if(os.path.isdir(encoder_dir + 'Glove')  == False):\n",
    "    ! mkdir GloVe\n",
    "    ! curl -Lo GloVe/glove.840B.300d.zip http://nlp.stanford.edu/data/glove.840B.300d.zip\n",
    "    ! unzip GloVe/glove.840B.300d.zip -d GloVe/\n",
    "else:\n",
    "    print('A subdirectory already exists.')\n"
   ]
  },
  {
   "cell_type": "code",
   "execution_count": 20,
   "id": "2b1bf605",
   "metadata": {},
   "outputs": [],
   "source": [
    "from models import InferSent\n",
    "import torch\n",
    "\n",
    "V = 2\n",
    "base_path = 'H:/sem8/nlp/proof-of-concept/'\n",
    "MODEL_PATH = base_path + 'encoder/infersent%s.pkl' % V\n",
    "params_model = {'bsize': 64, 'word_emb_dim': 300, 'enc_lstm_dim': 2048,\n",
    "                'pool_type': 'max', 'dpout_model': 0.0, 'version': V}\n",
    "model = InferSent(params_model)\n",
    "model.load_state_dict(torch.load(MODEL_PATH))\n",
    "\n",
    "W2V_PATH = base_path + '/GloVe/glove.840B.300d.txt'\n",
    "model.set_w2v_path(W2V_PATH)"
   ]
  },
  {
   "cell_type": "code",
   "execution_count": 25,
   "id": "6abc6532",
   "metadata": {},
   "outputs": [
    {
     "name": "stderr",
     "output_type": "stream",
     "text": [
      "100%|███████████████████████████████████████████████████████████████████████| 45575/45575 [00:00<00:00, 3046738.25it/s]\n"
     ]
    },
    {
     "name": "stdout",
     "output_type": "stream",
     "text": [
      "Found 42186(/44882) words with w2v vectors\n",
      "Vocab size : 42186\n",
      "Wall time: 29.9 s\n"
     ]
    }
   ],
   "source": [
    "%time model.build_vocab(sentences, tokenize=True)"
   ]
  },
  {
   "cell_type": "code",
   "execution_count": 26,
   "id": "7e9f1278",
   "metadata": {},
   "outputs": [
    {
     "name": "stderr",
     "output_type": "stream",
     "text": [
      "H:\\jupyter-files\\models.py:207: VisibleDeprecationWarning: Creating an ndarray from ragged nested sequences (which is a list-or-tuple of lists-or-tuples-or ndarrays with different lengths or shapes) is deprecated. If you meant to do this, you must specify 'dtype=object' when creating the ndarray.\n",
      "  sentences = np.array(sentences)[idx_sort]\n"
     ]
    },
    {
     "data": {
      "text/plain": [
       "array([-0.01715463,  0.04943122, -0.17540526, ..., -0.01258784,\n",
       "       -0.067958  , -0.04156346], dtype=float32)"
      ]
     },
     "execution_count": 26,
     "metadata": {},
     "output_type": "execute_result"
    }
   ],
   "source": [
    "query = \"Life is very short, nanba, always be happy. Design Design a problems will come and go don't worry\"\n",
    "query_vec = model.encode(query)[0]\n",
    "query_vec"
   ]
  },
  {
   "cell_type": "code",
   "execution_count": 29,
   "id": "f319d43c",
   "metadata": {},
   "outputs": [
    {
     "name": "stderr",
     "output_type": "stream",
     "text": [
      "100%|████████████████████████████████████████████████████████████████████████████████| 100/100 [00:23<00:00,  4.30it/s]\n"
     ]
    },
    {
     "name": "stdout",
     "output_type": "stream",
     "text": [
      "['Old age is no place for sissies.'\n",
      " 'Middle age is the awkward period when Father Time starts catching up with Mother Nature.'\n",
      " 'I want to get old gracefully. I want to have good posture, I want to be healthy and be an example to my children.'\n",
      " 'Like everyone else who makes the mistake of getting older, I begin each day with coffee and obituaries.'\n",
      " \"He has a profound respect for old age. Especially when it's bottled.\"\n",
      " 'Alas, after a certain age every man is responsible for his face.'\n",
      " \"Old age is like everything else. To make a success of it, you've got to start young.\"\n",
      " 'After thirty, a body has a mind of its own.'\n",
      " \"There's no such thing as old age, there is only sorrow.\"\n",
      " 'Old age comes on suddenly, and not gradually as is thought.']\n"
     ]
    }
   ],
   "source": [
    "topn = 10\n",
    "n = 100\n",
    "\n",
    "similarity = []\n",
    "sim = []\n",
    "\n",
    "for sent in tqdm(random.sample(sentences, n)):\n",
    "  sim.append(distance.cosine(query_vec, model.encode([sent])[0]))\n",
    "ind = np.argpartition(sim, -topn)[-topn:]\n",
    "print(np.array(sentences)[ind])"
   ]
  },
  {
   "cell_type": "code",
   "execution_count": 30,
   "id": "a043693a",
   "metadata": {},
   "outputs": [],
   "source": [
    "import matplotlib.pyplot as plt"
   ]
  },
  {
   "cell_type": "code",
   "execution_count": 31,
   "id": "b2d78698",
   "metadata": {},
   "outputs": [
    {
     "data": {
      "image/png": "[encoded data removed]",
      "text/plain": [
       "<Figure size 1152x648 with 1 Axes>"
      ]
     },
     "metadata": {
      "needs_background": "light"
     },
     "output_type": "display_data"
    }
   ],
   "source": [
    "fig, ax = plt.subplots(figsize =(16, 9))\n",
    "ax.xaxis.set_tick_params(pad = 5)\n",
    "ax.yaxis.set_tick_params(pad = 10)\n",
    "ax.barh([x[:30] + '...' for x in np.array(sentences)[ind]], np.array(sim)[ind])\n",
    "ax.invert_yaxis()\n",
    "plt.show()"
   ]
  },
  {
   "cell_type": "code",
   "execution_count": null,
   "id": "2c7eff9e",
   "metadata": {},
   "outputs": [],
   "source": []
  },
  {
   "cell_type": "code",
   "execution_count": null,
   "id": "c131ebca",
   "metadata": {},
   "outputs": [],
   "source": []
  },
  {
   "cell_type": "code",
   "execution_count": null,
   "id": "093dbc68",
   "metadata": {},
   "outputs": [],
   "source": []
  }
 ],
 "metadata": {
  "kernelspec": {
   "display_name": "Python 3 (ipykernel)",
   "language": "python",
   "name": "python3"
  },
  "language_info": {
   "codemirror_mode": {
    "name": "ipython",
    "version": 3
   },
   "file_extension": ".py",
   "mimetype": "text/x-python",
   "name": "python",
   "nbconvert_exporter": "python",
   "pygments_lexer": "ipython3",
   "version": "3.9.7"
  }
 },
 "nbformat": 4,
 "nbformat_minor": 5
}
