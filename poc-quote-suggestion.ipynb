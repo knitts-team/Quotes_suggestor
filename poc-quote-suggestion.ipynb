{
 "cells": [
  {
   "cell_type": "code",
   "execution_count": 1,
   "id": "6178d2a3",
   "metadata": {},
   "outputs": [],
   "source": [
    "#OM NAMO NARAYANA"
   ]
  },
  {
   "cell_type": "markdown",
   "id": "fef1fdd8",
   "metadata": {},
   "source": [
    "https://www.analyticsvidhya.com/blog/2020/08/top-4-sentence-embedding-techniques-using-python/"
   ]
  },
  {
   "cell_type": "code",
   "execution_count": 2,
   "id": "12dd182c",
   "metadata": {},
   "outputs": [
    {
     "name": "stderr",
     "output_type": "stream",
     "text": [
      "[nltk_data] Downloading package punkt to\n",
      "[nltk_data]     C:\\Users\\WELCOME\\AppData\\Roaming\\nltk_data...\n",
      "[nltk_data]   Package punkt is already up-to-date!\n"
     ]
    }
   ],
   "source": [
    "import nltk\n",
    "nltk.download('punkt')\n",
    "from nltk.tokenize import word_tokenize\n",
    "import numpy as np"
   ]
  },
  {
   "cell_type": "code",
   "execution_count": 3,
   "id": "d40ece8b",
   "metadata": {},
   "outputs": [],
   "source": [
    "import pandas as pd"
   ]
  },
  {
   "cell_type": "markdown",
   "id": "37f9806e",
   "metadata": {},
   "source": [
    "## Dataset preparation"
   ]
  },
  {
   "cell_type": "code",
   "execution_count": 4,
   "id": "226cc51f",
   "metadata": {},
   "outputs": [
    {
     "data": {
      "text/html": [
       "<div>\n",
       "<style scoped>\n",
       "    .dataframe tbody tr th:only-of-type {\n",
       "        vertical-align: middle;\n",
       "    }\n",
       "\n",
       "    .dataframe tbody tr th {\n",
       "        vertical-align: top;\n",
       "    }\n",
       "\n",
       "    .dataframe thead th {\n",
       "        text-align: right;\n",
       "    }\n",
       "</style>\n",
       "<table border=\"1\" class=\"dataframe\">\n",
       "  <thead>\n",
       "    <tr style=\"text-align: right;\">\n",
       "      <th></th>\n",
       "      <th>Quotes</th>\n",
       "      <th>Author</th>\n",
       "      <th>Category</th>\n",
       "    </tr>\n",
       "  </thead>\n",
       "  <tbody>\n",
       "    <tr>\n",
       "      <th>0</th>\n",
       "      <td>Age is an issue of mind over matter. If you do...</td>\n",
       "      <td>Mark Twain</td>\n",
       "      <td>age\\n</td>\n",
       "    </tr>\n",
       "    <tr>\n",
       "      <th>1</th>\n",
       "      <td>Anyone who stops learning is old, whether at t...</td>\n",
       "      <td>Henry Ford</td>\n",
       "      <td>age\\n</td>\n",
       "    </tr>\n",
       "    <tr>\n",
       "      <th>2</th>\n",
       "      <td>Wrinkles should merely indicate where smiles h...</td>\n",
       "      <td>Mark Twain</td>\n",
       "      <td>age\\n</td>\n",
       "    </tr>\n",
       "    <tr>\n",
       "      <th>3</th>\n",
       "      <td>True terror is to wake up one morning and disc...</td>\n",
       "      <td>Kurt Vonnegut</td>\n",
       "      <td>age\\n</td>\n",
       "    </tr>\n",
       "    <tr>\n",
       "      <th>4</th>\n",
       "      <td>A diplomat is a man who always remembers a wom...</td>\n",
       "      <td>Robert Frost</td>\n",
       "      <td>age\\n</td>\n",
       "    </tr>\n",
       "  </tbody>\n",
       "</table>\n",
       "</div>"
      ],
      "text/plain": [
       "                                              Quotes         Author Category\n",
       "0  Age is an issue of mind over matter. If you do...     Mark Twain    age\\n\n",
       "1  Anyone who stops learning is old, whether at t...     Henry Ford    age\\n\n",
       "2  Wrinkles should merely indicate where smiles h...     Mark Twain    age\\n\n",
       "3  True terror is to wake up one morning and disc...  Kurt Vonnegut    age\\n\n",
       "4  A diplomat is a man who always remembers a wom...   Robert Frost    age\\n"
      ]
     },
     "execution_count": 4,
     "metadata": {},
     "output_type": "execute_result"
    }
   ],
   "source": [
    "dataset_dir = 'H:/sem8/nlp/proof-of-concept/Motivational Quotes Database.csv'\n",
    "\n",
    "\n",
    "df = pd.read_csv(dataset_dir)\n",
    "df.head()"
   ]
  },
  {
   "cell_type": "code",
   "execution_count": 5,
   "id": "6bf26732",
   "metadata": {},
   "outputs": [
    {
     "data": {
      "text/plain": [
       "[\"Age is an issue of mind over matter. If you don't mind, it doesn't matter.\",\n",
       " 'Anyone who stops learning is old, whether at twenty or eighty. Anyone who keeps learning stays young. The greatest thing in life is to keep your mind young.']"
      ]
     },
     "execution_count": 5,
     "metadata": {},
     "output_type": "execute_result"
    }
   ],
   "source": [
    "sentences = df['Quotes'].to_list()\n",
    "sentences[:2]"
   ]
  },
  {
   "cell_type": "code",
   "execution_count": 6,
   "id": "5a5bda58",
   "metadata": {},
   "outputs": [
    {
     "data": {
      "text/plain": [
       "[['anyone',\n",
       "  'who',\n",
       "  'stops',\n",
       "  'learning',\n",
       "  'is',\n",
       "  'old',\n",
       "  ',',\n",
       "  'whether',\n",
       "  'at',\n",
       "  'twenty',\n",
       "  'or',\n",
       "  'eighty',\n",
       "  '.',\n",
       "  'anyone',\n",
       "  'who',\n",
       "  'keeps',\n",
       "  'learning',\n",
       "  'stays',\n",
       "  'young',\n",
       "  '.',\n",
       "  'the',\n",
       "  'greatest',\n",
       "  'thing',\n",
       "  'in',\n",
       "  'life',\n",
       "  'is',\n",
       "  'to',\n",
       "  'keep',\n",
       "  'your',\n",
       "  'mind',\n",
       "  'young',\n",
       "  '.'],\n",
       " ['wrinkles',\n",
       "  'should',\n",
       "  'merely',\n",
       "  'indicate',\n",
       "  'where',\n",
       "  'smiles',\n",
       "  'have',\n",
       "  'been',\n",
       "  '.']]"
      ]
     },
     "execution_count": 6,
     "metadata": {},
     "output_type": "execute_result"
    }
   ],
   "source": [
    "tokenized_sent = []\n",
    "for s in sentences:\n",
    "    tokenized_sent.append(word_tokenize(s.lower()))\n",
    "tokenized_sent[1:3]"
   ]
  },
  {
   "cell_type": "code",
   "execution_count": 7,
   "id": "f5947067",
   "metadata": {},
   "outputs": [],
   "source": [
    "# def cosine(u, v):\n",
    "#     return np.dot(u, v) / (np.linalg.norm(u) * np.linalg.norm(v))\n",
    "# #use inbuilt scipy.spatial.distance.cosine "
   ]
  },
  {
   "cell_type": "code",
   "execution_count": 8,
   "id": "4af7ad88",
   "metadata": {},
   "outputs": [],
   "source": [
    "from scipy.spatial import distance"
   ]
  },
  {
   "cell_type": "markdown",
   "id": "7d41809d",
   "metadata": {},
   "source": [
    "## Doc2Vec"
   ]
  },
  {
   "cell_type": "code",
   "execution_count": 9,
   "id": "13f1c8c3",
   "metadata": {},
   "outputs": [
    {
     "name": "stderr",
     "output_type": "stream",
     "text": [
      "D:\\OS\\programs\\anaconda3\\envs\\fyp\\lib\\site-packages\\gensim\\similarities\\__init__.py:15: UserWarning: The gensim.similarities.levenshtein submodule is disabled, because the optional Levenshtein package <https://pypi.org/project/python-Levenshtein/> is unavailable. Install Levenhstein (e.g. `pip install python-Levenshtein`) to suppress this warning.\n",
      "  warnings.warn(msg)\n"
     ]
    },
    {
     "data": {
      "text/plain": [
       "[TaggedDocument(words=['age', 'is', 'an', 'issue', 'of', 'mind', 'over', 'matter', '.', 'if', 'you', 'do', \"n't\", 'mind', ',', 'it', 'does', \"n't\", 'matter', '.'], tags=[0]),\n",
       " TaggedDocument(words=['anyone', 'who', 'stops', 'learning', 'is', 'old', ',', 'whether', 'at', 'twenty', 'or', 'eighty', '.', 'anyone', 'who', 'keeps', 'learning', 'stays', 'young', '.', 'the', 'greatest', 'thing', 'in', 'life', 'is', 'to', 'keep', 'your', 'mind', 'young', '.'], tags=[1])]"
      ]
     },
     "execution_count": 9,
     "metadata": {},
     "output_type": "execute_result"
    }
   ],
   "source": [
    "from gensim.models.doc2vec import Doc2Vec, TaggedDocument\n",
    "tagged_data = [TaggedDocument(d, [i]) for i, d in enumerate(tokenized_sent)]\n",
    "tagged_data[:2]"
   ]
  },
  {
   "cell_type": "code",
   "execution_count": 10,
   "id": "68e520e6",
   "metadata": {},
   "outputs": [],
   "source": [
    "## Train doc2vec model\n",
    "model = Doc2Vec(tagged_data, vector_size = 20, window = 2, min_count = 1, epochs = 10)\n",
    "\n",
    "'''\n",
    "vector_size = Dimensionality of the feature vectors.\n",
    "window = The maximum distance between the current and predicted word within a sentence.\n",
    "min_count = Ignores all words with total frequency lower than this.\n",
    "alpha = The initial learning rate.\n",
    "'''\n",
    "\n",
    "## Print model vocabulary\n",
    "words = list(model.wv.index_to_key)\n"
   ]
  },
  {
   "cell_type": "code",
   "execution_count": 11,
   "id": "0a52773a",
   "metadata": {},
   "outputs": [],
   "source": [
    "# words = list(model.wv.index_to_key)\n",
    "# print(words[:100], len(words))"
   ]
  },
  {
   "cell_type": "code",
   "execution_count": 12,
   "id": "6e718b74",
   "metadata": {},
   "outputs": [
    {
     "name": "stdout",
     "output_type": "stream",
     "text": [
      "[ 0.04938845 -0.02755996  0.11667264  0.08866599 -0.1465587  -0.07822042\n",
      "  0.1624232  -0.05365606  0.05923635 -0.10023393 -0.05346186  0.04129836\n",
      " -0.05277542 -0.0842001   0.06441601 -0.09447651  0.03104892 -0.02262432\n",
      "  0.03820292 -0.06457664]\n",
      "[(12877, 0.9073508381843567), (23125, 0.9022712111473083), (20487, 0.8961390852928162), (27556, 0.8953619599342346), (21092, 0.8901385068893433), (14324, 0.886950671672821), (45490, 0.8861529231071472), (13208, 0.8856714367866516), (1554, 0.8831487894058228), (3112, 0.8814072012901306)]\n"
     ]
    }
   ],
   "source": [
    "test_doc = word_tokenize(\"freedom\".lower())\n",
    "test_doc_vector = model.infer_vector(test_doc)\n",
    "print(test_doc_vector)\n",
    "x = model.dv.most_similar(positive = [test_doc_vector], topn=10)\n",
    "print(x)"
   ]
  },
  {
   "cell_type": "code",
   "execution_count": 13,
   "id": "3a6a7cb9",
   "metadata": {},
   "outputs": [
    {
     "name": "stdout",
     "output_type": "stream",
     "text": [
      "Dreams sometimes foretell the future.\n",
      "Hope is some extraordinary spiritual grace that God gives us to control our fears, not to oust them.\n",
      "I defend both the freedom of expression and society's right to counter it. I must pay the price for differing. It is the natural way of things.\n",
      "There is something in the pang of change More than the heart can bear, Unhappiness remembering happiness.\n",
      "Secrecy is the chastity of friendship.\n",
      "What is sure is that technological change is accelerating in all directions and, like children playing in a fountain, consumers are reveling in the experience.\n",
      "Liberty exists in proportion to wholesome restraint.\n",
      "The education of women is the best way to save the environment.\n",
      "Absolute truth belongs to Thee alone.\n",
      "Like music and art, love of nature is a common language that can transcend political or social boundaries.\n"
     ]
    }
   ],
   "source": [
    "index = [sentences[j] for j in [i[0] for i in x]]\n",
    "for y in index:\n",
    "    print(y)"
   ]
  },
  {
   "cell_type": "markdown",
   "id": "10bad9f1",
   "metadata": {},
   "source": [
    "## SentenceBERT"
   ]
  },
  {
   "cell_type": "code",
   "execution_count": 14,
   "id": "9d881a55",
   "metadata": {},
   "outputs": [
    {
     "data": {
      "application/vnd.jupyter.widget-view+json": {
       "model_id": "c17c4745a57a4fa7abee8be0bd19b54c",
       "version_major": 2,
       "version_minor": 0
      },
      "text/plain": [
       "Downloading:   0%|          | 0.00/391 [00:00<?, ?B/s]"
      ]
     },
     "metadata": {},
     "output_type": "display_data"
    },
    {
     "data": {
      "application/vnd.jupyter.widget-view+json": {
       "model_id": "f097533aa35346559dbaaab62f331e24",
       "version_major": 2,
       "version_minor": 0
      },
      "text/plain": [
       "Downloading:   0%|          | 0.00/3.95k [00:00<?, ?B/s]"
      ]
     },
     "metadata": {},
     "output_type": "display_data"
    },
    {
     "data": {
      "application/vnd.jupyter.widget-view+json": {
       "model_id": "1649b9649e5047969f83771a3d2ba1db",
       "version_major": 2,
       "version_minor": 0
      },
      "text/plain": [
       "Downloading:   0%|          | 0.00/2.00 [00:00<?, ?B/s]"
      ]
     },
     "metadata": {},
     "output_type": "display_data"
    },
    {
     "data": {
      "application/vnd.jupyter.widget-view+json": {
       "model_id": "026887407a9a48dea75534ccab6a5958",
       "version_major": 2,
       "version_minor": 0
      },
      "text/plain": [
       "Downloading:   0%|          | 0.00/625 [00:00<?, ?B/s]"
      ]
     },
     "metadata": {},
     "output_type": "display_data"
    },
    {
     "data": {
      "application/vnd.jupyter.widget-view+json": {
       "model_id": "dc33f4920f00475ba96ec9c212b23efd",
       "version_major": 2,
       "version_minor": 0
      },
      "text/plain": [
       "Downloading:   0%|          | 0.00/122 [00:00<?, ?B/s]"
      ]
     },
     "metadata": {},
     "output_type": "display_data"
    },
    {
     "data": {
      "application/vnd.jupyter.widget-view+json": {
       "model_id": "f12a361fb46242d0996adc36352f7492",
       "version_major": 2,
       "version_minor": 0
      },
      "text/plain": [
       "Downloading:   0%|          | 0.00/229 [00:00<?, ?B/s]"
      ]
     },
     "metadata": {},
     "output_type": "display_data"
    },
    {
     "data": {
      "application/vnd.jupyter.widget-view+json": {
       "model_id": "598a8210080b46bfbf1034b41b8048c6",
       "version_major": 2,
       "version_minor": 0
      },
      "text/plain": [
       "Downloading:   0%|          | 0.00/438M [00:00<?, ?B/s]"
      ]
     },
     "metadata": {},
     "output_type": "display_data"
    },
    {
     "data": {
      "application/vnd.jupyter.widget-view+json": {
       "model_id": "173f42f39b2541f79cc85e16d714df97",
       "version_major": 2,
       "version_minor": 0
      },
      "text/plain": [
       "Downloading:   0%|          | 0.00/53.0 [00:00<?, ?B/s]"
      ]
     },
     "metadata": {},
     "output_type": "display_data"
    },
    {
     "data": {
      "application/vnd.jupyter.widget-view+json": {
       "model_id": "c4f2c8b311d04c7fb0f02d306c37c3c8",
       "version_major": 2,
       "version_minor": 0
      },
      "text/plain": [
       "Downloading:   0%|          | 0.00/112 [00:00<?, ?B/s]"
      ]
     },
     "metadata": {},
     "output_type": "display_data"
    },
    {
     "data": {
      "application/vnd.jupyter.widget-view+json": {
       "model_id": "ea07aa20d4984f8c8f63c9975954db9c",
       "version_major": 2,
       "version_minor": 0
      },
      "text/plain": [
       "Downloading:   0%|          | 0.00/466k [00:00<?, ?B/s]"
      ]
     },
     "metadata": {},
     "output_type": "display_data"
    },
    {
     "data": {
      "application/vnd.jupyter.widget-view+json": {
       "model_id": "5ed7067b424740d192fa0bd768c3313d",
       "version_major": 2,
       "version_minor": 0
      },
      "text/plain": [
       "Downloading:   0%|          | 0.00/399 [00:00<?, ?B/s]"
      ]
     },
     "metadata": {},
     "output_type": "display_data"
    },
    {
     "data": {
      "application/vnd.jupyter.widget-view+json": {
       "model_id": "2233ed6752674d6ea3baa8ba743c6f3a",
       "version_major": 2,
       "version_minor": 0
      },
      "text/plain": [
       "Downloading:   0%|          | 0.00/232k [00:00<?, ?B/s]"
      ]
     },
     "metadata": {},
     "output_type": "display_data"
    },
    {
     "data": {
      "application/vnd.jupyter.widget-view+json": {
       "model_id": "7d24c7983ad84a0db7e9635220f5c9c1",
       "version_major": 2,
       "version_minor": 0
      },
      "text/plain": [
       "Downloading:   0%|          | 0.00/190 [00:00<?, ?B/s]"
      ]
     },
     "metadata": {},
     "output_type": "display_data"
    }
   ],
   "source": [
    "from sentence_transformers import SentenceTransformer\n",
    "sbert_model = SentenceTransformer('bert-base-nli-mean-tokens')"
   ]
  },
  {
   "cell_type": "code",
   "execution_count": 23,
   "id": "bab3693c",
   "metadata": {},
   "outputs": [],
   "source": [
    "sentence_embeddings = sbert_model.encode(sentences[:2000])\n",
    "\n",
    "#print('Sample BERT embedding vector - length', len(sentence_embeddings[0]))\n",
    "#print('Sample BERT embedding vector - note includes negative values', sentence_embeddings[0])"
   ]
  },
  {
   "cell_type": "code",
   "execution_count": 24,
   "id": "674e4ff1",
   "metadata": {},
   "outputs": [],
   "source": [
    "query = \"God is Great\"\n",
    "query_vec = sbert_model.encode([query])[0]"
   ]
  },
  {
   "cell_type": "code",
   "execution_count": 25,
   "id": "6b1e0cda",
   "metadata": {},
   "outputs": [
    {
     "name": "stdout",
     "output_type": "stream",
     "text": [
      "Sentence =  Age is an issue of mind over matter. If you don't mind, it doesn't matter. ; similarity =  0.6677443385124207\n",
      "Sentence =  Anyone who stops learning is old, whether at twenty or eighty. Anyone who keeps learning stays young. The greatest thing in life is to keep your mind young. ; similarity =  0.7115116715431213\n",
      "Sentence =  Wrinkles should merely indicate where smiles have been. ; similarity =  0.5959500670433044\n",
      "Sentence =  True terror is to wake up one morning and discover that your high school class is running the country. ; similarity =  0.9306746125221252\n",
      "Sentence =  A diplomat is a man who always remembers a woman's birthday but never remembers her age. ; similarity =  0.9633507095277309\n",
      "Sentence =  As I grow older, I pay less attention to what men say. I just watch what they do. ; similarity =  0.8945946171879768\n",
      "Sentence =  How incessant and great are the ills with which a prolonged old age is replete. ; similarity =  0.5837436616420746\n",
      "Sentence =  Old age, believe me, is a good and pleasant thing. It is true you are gently shouldered off the stage, but then you are given such a comfortable front stall as spectator. ; similarity =  0.5715271532535553\n",
      "Sentence =  Old age has deformities enough of its own. It should never add to them the deformity of vice. ; similarity =  0.803290382027626\n",
      "Sentence =  Nobody grows old merely by living a number of years. We grow old by deserting our ideals. Years may wrinkle the skin, but to give up enthusiasm wrinkles the soul. ; similarity =  0.8829065188765526\n"
     ]
    }
   ],
   "source": [
    "for sent in sentences[:10]:\n",
    "  sim = distance.cosine(query_vec, sbert_model.encode([sent])[0])\n",
    "  print(\"Sentence = \", sent, \"; similarity = \", sim)"
   ]
  },
  {
   "cell_type": "code",
   "execution_count": 26,
   "id": "47ee9638",
   "metadata": {},
   "outputs": [],
   "source": [
    "# from huggingface_hub import create_repo"
   ]
  },
  {
   "cell_type": "markdown",
   "id": "475a15c6",
   "metadata": {},
   "source": [
    "## InferSent"
   ]
  },
  {
   "cell_type": "code",
   "execution_count": null,
   "id": "71662ba8",
   "metadata": {},
   "outputs": [],
   "source": [
    "import os\n",
    "\n",
    "encoder_dir = 'H:/sem8/nlp/proof-of-concept/'\n",
    "\n",
    "os.chdir(encoder_dir)\n",
    "\n",
    "try:\n",
    "    ! mkdir encoder\n",
    "except:\n",
    "    print('Probably already exists.')\n",
    "    \n",
    "! curl -Lo encoder/infersent2.pkl https://dl.fbaipublicfiles.com/infersent/infersent2.pkl\n",
    "try:\n",
    "    ! mkdir GloVe\n",
    "except:\n",
    "    print('Probably already exists.')\n",
    "! curl -Lo GloVe/glove.840B.300d.zip http://nlp.stanford.edu/data/glove.840B.300d.zip\n",
    "! unzip GloVe/glove.840B.300d.zip -d GloVe/"
   ]
  },
  {
   "cell_type": "code",
   "execution_count": null,
   "id": "2b1bf605",
   "metadata": {},
   "outputs": [],
   "source": [
    "from models import InferSent\n",
    "import torch\n",
    "\n",
    "V = 2\n",
    "MODEL_PATH = './encoder/infersent%s.pkl' % V\n",
    "params_model = {'bsize': 64, 'word_emb_dim': 300, 'enc_lstm_dim': 2048,\n",
    "                'pool_type': 'max', 'dpout_model': 0.0, 'version': V}\n",
    "model = InferSent(params_model)\n",
    "model.load_state_dict(torch.load(MODEL_PATH))\n",
    "\n",
    "W2V_PATH = './content/GloVe/glove.840B.300d.txt'\n",
    "model.set_w2v_path(W2V_PATH)"
   ]
  },
  {
   "cell_type": "code",
   "execution_count": null,
   "id": "6abc6532",
   "metadata": {},
   "outputs": [],
   "source": [
    "model.build_vocab(sentences, tokenize=True)"
   ]
  },
  {
   "cell_type": "code",
   "execution_count": null,
   "id": "7e9f1278",
   "metadata": {},
   "outputs": [],
   "source": [
    "query = \"I had pizza and pasta\"\n",
    "query_vec = model.encode(query)[0]\n",
    "query_vec"
   ]
  },
  {
   "cell_type": "code",
   "execution_count": null,
   "id": "f319d43c",
   "metadata": {},
   "outputs": [],
   "source": [
    "similarity = []\n",
    "for sent in sentences:\n",
    "  sim = distance.cosine(query_vec, model.encode([sent])[0])\n",
    "  print(\"Sentence = \", sent, \"; similarity = \", sim)"
   ]
  },
  {
   "cell_type": "code",
   "execution_count": null,
   "id": "a043693a",
   "metadata": {},
   "outputs": [],
   "source": []
  },
  {
   "cell_type": "code",
   "execution_count": null,
   "id": "b2d78698",
   "metadata": {},
   "outputs": [],
   "source": []
  },
  {
   "cell_type": "code",
   "execution_count": 22,
   "id": "2c7eff9e",
   "metadata": {},
   "outputs": [
    {
     "data": {
      "text/plain": [
       "45575"
      ]
     },
     "execution_count": 22,
     "metadata": {},
     "output_type": "execute_result"
    }
   ],
   "source": [
    "len(sentences)"
   ]
  },
  {
   "cell_type": "code",
   "execution_count": null,
   "id": "c131ebca",
   "metadata": {},
   "outputs": [],
   "source": []
  },
  {
   "cell_type": "code",
   "execution_count": null,
   "id": "093dbc68",
   "metadata": {},
   "outputs": [],
   "source": []
  }
 ],
 "metadata": {
  "kernelspec": {
   "display_name": "Python 3 (ipykernel)",
   "language": "python",
   "name": "python3"
  },
  "language_info": {
   "codemirror_mode": {
    "name": "ipython",
    "version": 3
   },
   "file_extension": ".py",
   "mimetype": "text/x-python",
   "name": "python",
   "nbconvert_exporter": "python",
   "pygments_lexer": "ipython3",
   "version": "3.9.7"
  }
 },
 "nbformat": 4,
 "nbformat_minor": 5
}
